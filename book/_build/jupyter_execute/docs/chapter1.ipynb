{
 "cells": [
  {
   "cell_type": "markdown",
<<<<<<< HEAD
   "id": "7c56449f",
=======
   "id": "9e6d3b9f",
>>>>>>> d88f11ffd52b32a50e34c08863574472c5b103aa
   "metadata": {},
   "source": [
    "(about_py)=\n",
    "\n",
    "# Chapter 1\n",
    "\n",
    "ffffffff\n",
    "yes\n",
    "> Here is a temporary test\n",
    "sdfsdfdsfsdf\n",
    "sdfsdfsdfsdfsdfsd\n",
    "helloo\n",
    "> \\\"Python has gotten sufficiently weapons grade that we don't descend\n",
    "> into R anymore. Sorry, R people. I used to be one of you but we no\n",
    "> longer descend into R.\\\" -- Chris Wiggins\n",
    "\n",
    "## Overview\n",
    "\n",
    "\n",
    "In this lecture we will\n",
    "\n",
    "-   outline what Python is\n",
    "-   showcase some of its abilities\n",
    "-   compare it to some other languages.\n",
    "\n",
    "At this stage, it\\'s **not** our intention that you try to replicate all\n",
    "you see.\n",
    "\n",
    "We will work through what follows at a slow pace later in the lecture\n",
    "series.\n",
    "\n",
    "Our only objective for this lecture is to give you some feel of what\n",
    "Python is, and what it can do.\n",
    "\n",
    "## What\\'s Python?\n",
    "\n",
    "[Python](https://www.python.org) is a general-purpose programming\n",
    "language conceived in 1989 by Dutch programmer [Guido van\n",
    "Rossum](https://en.wikipedia.org/wiki/Guido_van_Rossum).\n",
    "\n",
    "Python is free and open source, with development coordinated through the\n",
    "[Python Software Foundation](https://www.python.org/psf/).\n",
    "\n",
    "Python has experienced rapid adoption in the last decade and is now one\n",
    "of the most popular programming languages.\n",
    "\n",
    "### Common Uses\n",
    "\n",
    "Python is a general-purpose language used in almost all application domains\n",
    "such as\n",
    "\n",
    "-   communications\n",
    "-   web development\n",
    "-   CGI and graphical user interfaces\n",
    "-   game development\n",
    "-   multimedia, data processing, security, etc., etc., etc.\n",
    "\n",
    "Used extensively by Internet services and high tech companies including\n",
    "\n",
    "-   [Google](https://www.google.com/)\n",
    "-   [Dropbox](https://www.dropbox.com/)\n",
    "-   [Reddit](https://www.reddit.com/)\n",
    "-   [YouTube](https://www.youtube.com/)\n",
    "-   [Walt Disney\n",
    "    Animation](https://pydanny-event-notes.readthedocs.org/en/latest/socalpiggies/20110526-wda.html).\n",
    "\n",
    "Python is very beginner-friendly and is often used to [teach computer\n",
    "science and\n",
    "programming](http://cacm.acm.org/blogs/blog-cacm/176450-python-is-now-the-most-popular-introductory-teaching-language-at-top-us-universities/fulltext).\n",
    "\n",
    "For reasons we will discuss, Python is particularly popular within the\n",
    "scientific community with users including NASA, CERN and practically all\n",
    "branches of academia.\n",
    "\n",
    "It is also [replacing familiar tools like\n",
    "Excel](https://news.efinancialcareers.com/us-en/3002556/python-replaced-excel-banking)\n",
    "in the fields of finance and banking.\n",
    "\n",
    "### Relative Popularity\n",
    "\n",
    "The following chart, produced using Stack Overflow Trends, shows one\n",
    "measure of the relative popularity of Python\n",
    "\n",
    "```{figure} /_static/lecture_specific/about_py/python_vs_matlab.png\n",
    ":scale: 72%\n",
    "```\n",
    "\n",
    "The figure indicates not only that Python is widely used but also that\n",
    "adoption of Python has accelerated significantly since 2012.\n",
    "\n",
    "We suspect this is driven at least in part by uptake in the scientific\n",
    "domain, particularly in rapidly growing fields like data science.\n",
    "\n",
    "For example, the popularity of [pandas](http://pandas.pydata.org/), a\n",
    "library for data analysis with Python has exploded, as seen here.\n",
    "\n",
    "(The corresponding time path for MATLAB is shown for comparison)\n",
    "\n",
    "```{figure} /_static/lecture_specific/about_py/pandas_vs_matlab.png\n",
    ":scale: 23%\n",
    "```\n",
    "\n",
    "Note that pandas takes off in 2012, which is the same year that we see\n",
    "Python\\'s popularity begin to spike in the first figure.\n",
    "\n",
    "Overall, it\\'s clear that\n",
    "\n",
    "-   Python is [one of the most popular programming languages\n",
    "    worldwide](http://spectrum.ieee.org/computing/software/the-2017-top-programming-languages).\n",
    "-   Python is a major tool for scientific computing, accounting for a\n",
    "    rapidly rising share of scientific work around the globe.\n",
    "\n",
    "### Features\n",
    "\n",
    "Python is a [high-level\n",
    "language](https://en.wikipedia.org/wiki/High-level_programming_language)\n",
    "suitable for rapid development.\n",
    "\n",
    "It has a relatively small core language supported by many libraries.\n",
    "\n",
    "Other features of Python:\n",
    "\n",
    "-   multiple programming styles are supported (procedural,\n",
    "    object-oriented, functional, etc.)\n",
    "-   it is interpreted rather than compiled.\n",
    "\n",
    "### Syntax and Design\n",
    "\n",
    "One nice feature of Python is its elegant syntax --- we\\'ll see many\n",
    "examples later on.\n",
    "\n",
    "Elegant code might sound superfluous but in fact it\\'s highly beneficial\n",
    "because it makes the syntax easy to read and easy to remember.\n",
    "\n",
    "Remembering how to read from files, sort dictionaries and other such\n",
    "routine tasks means that you don\\'t need to break your flow in order to\n",
    "hunt down correct syntax.\n",
    "\n",
    "Closely related to elegant syntax is an elegant design.\n",
    "\n",
    "Features like iterators, generators, decorators and list comprehensions\n",
    "make Python highly expressive, allowing you to get more done with less\n",
    "code.\n",
    "\n",
    "[Namespaces](https://en.wikipedia.org/wiki/Namespace) improve\n",
    "productivity by cutting down on bugs and syntax errors.\n",
    "\n",
    "## Scientific Programming\n",
    "\n",
    "Python has become one of the core languages of scientific computing.\n",
    "\n",
    "It\\'s either the dominant player or a major player in\n",
    "\n",
    "-   [machine learning and data science](http://scikit-learn.org/stable/)\n",
    "-   [astronomy](http://www.astropy.org/)\n",
    "-   [artificial\n",
    "    intelligence](https://wiki.python.org/moin/PythonForArtificialIntelligence)\n",
    "-   [chemistry](http://chemlab.github.io/chemlab/)\n",
    "-   [computational biology](http://biopython.org/wiki/Main_Page)\n",
    "-   [meteorology](https://pypi.org/project/meteorology/)\n",
    "\n",
    "Its popularity in economics is also beginning to rise.\n",
    "\n",
    "This section briefly showcases some examples of Python for scientific\n",
    "programming.\n",
    "\n",
    "-   All of these topics will be covered in detail later on.\n",
    "\n",
    "### Numerical Programming\n",
    "\n",
    "Fundamental matrix and array processing capabilities are provided by the\n",
    "excellent [NumPy](http://www.numpy.org/) library.\n",
    "\n",
    "NumPy provides the basic array data type plus some simple processing\n",
    "operations.\n",
    "\n",
    "For example, let\\'s build some arrays"
   ]
  },
  {
   "cell_type": "code",
   "execution_count": 1,
<<<<<<< HEAD
   "id": "e666436c",
=======
   "id": "3059dda5",
>>>>>>> d88f11ffd52b32a50e34c08863574472c5b103aa
   "metadata": {},
   "outputs": [],
   "source": [
    "import numpy as np                     # Load the library\n",
    "\n",
    "a = np.linspace(-np.pi, np.pi, 100)    # Create even grid from -π to π\n",
    "b = np.cos(a)                          # Apply cosine to each element of a\n",
    "c = np.sin(a)                          # Apply sin to each element of a"
   ]
  },
  {
   "cell_type": "markdown",
<<<<<<< HEAD
   "id": "1e322430",
=======
   "id": "f4530d71",
>>>>>>> d88f11ffd52b32a50e34c08863574472c5b103aa
   "metadata": {},
   "source": [
    "Now let\\'s take the inner product"
   ]
  },
  {
   "cell_type": "code",
   "execution_count": 2,
<<<<<<< HEAD
   "id": "96c0f71e",
=======
   "id": "b998338e",
>>>>>>> d88f11ffd52b32a50e34c08863574472c5b103aa
   "metadata": {},
   "outputs": [
    {
     "data": {
      "text/plain": [
       "-1.8041124150158794e-16"
      ]
     },
     "execution_count": 2,
     "metadata": {},
     "output_type": "execute_result"
    }
   ],
   "source": [
    "b @ c"
   ]
  },
  {
   "cell_type": "markdown",
<<<<<<< HEAD
   "id": "45940f0e",
=======
   "id": "a1308283",
>>>>>>> d88f11ffd52b32a50e34c08863574472c5b103aa
   "metadata": {},
   "source": [
    "The number you see here might vary slightly but it\\'s essentially zero.\n",
    "\n",
    "(For older versions of Python and NumPy you need to use the\n",
    "[np.dot](http://docs.scipy.org/doc/numpy/reference/generated/numpy.dot.html)\n",
    "function)\n",
    "\n",
    "The [SciPy](http://www.scipy.org) library is built on top of NumPy and\n",
    "provides additional functionality.\n",
    "\n",
    "(tuple_unpacking_example)=\n",
    "For example, let\\'s calculate $\\int_{-2}^2 \\phi(z) dz$ where $\\phi$ is\n",
    "the standard normal density."
   ]
  },
  {
   "cell_type": "code",
   "execution_count": 3,
<<<<<<< HEAD
   "id": "76d33549",
=======
   "id": "91e5e297",
>>>>>>> d88f11ffd52b32a50e34c08863574472c5b103aa
   "metadata": {},
   "outputs": [
    {
     "data": {
      "text/plain": [
       "0.9544997361036417"
      ]
     },
     "execution_count": 3,
     "metadata": {},
     "output_type": "execute_result"
    }
   ],
   "source": [
    "from scipy.stats import norm\n",
    "from scipy.integrate import quad\n",
    "\n",
    "ϕ = norm()\n",
    "value, error = quad(ϕ.pdf, -2, 2)  # Integrate using Gaussian quadrature\n",
    "value"
   ]
  },
  {
   "cell_type": "markdown",
<<<<<<< HEAD
   "id": "391ef054",
=======
   "id": "241fe9b4",
>>>>>>> d88f11ffd52b32a50e34c08863574472c5b103aa
   "metadata": {},
   "source": [
    "SciPy includes many of the standard routines used in\n",
    "\n",
    "-   [linear\n",
    "    algebra](http://docs.scipy.org/doc/scipy/reference/linalg.html)\n",
    "-   [integration](http://docs.scipy.org/doc/scipy/reference/integrate.html)\n",
    "-   [interpolation](http://docs.scipy.org/doc/scipy/reference/interpolate.html)\n",
    "-   [optimization](http://docs.scipy.org/doc/scipy/reference/optimize.html)\n",
    "-   [distributions and random number\n",
    "    generation](http://docs.scipy.org/doc/scipy/reference/stats.html)\n",
    "-   [signal\n",
    "    processing](http://docs.scipy.org/doc/scipy/reference/signal.html)\n",
    "\n",
    "See them all\n",
    "[here](http://docs.scipy.org/doc/scipy/reference/index.html).\n",
    "\n",
    "### Graphics\n",
    "\n",
    "The most popular and comprehensive Python library for creating figures\n",
    "and graphs is [Matplotlib](http://matplotlib.org/), with functionality\n",
    "including\n",
    "\n",
    "-   plots, histograms, contour images, 3D graphs, bar charts etc.\n",
    "-   output in many formats (PDF, PNG, EPS, etc.)\n",
    "-   LaTeX integration\n",
    "\n",
    "Example 2D plot with embedded LaTeX annotations\n",
    "\n",
    "```{figure} /_static/lecture_specific/about_py/qs.png\n",
    ":scale: 55%\n",
    "```\n",
    "\n",
    "Example contour plot\n",
    "\n",
    "```{figure} /_static/lecture_specific/about_py/bn_density1.png\n",
    ":scale: 55%\n",
    "```\n",
    "\n",
    "Example 3D plot\n",
    "\n",
    "```{figure} /_static/lecture_specific/about_py/career_vf.png\n",
    ":scale: 80%\n",
    "```\n",
    "\n",
    "More examples can be found in the [Matplotlib thumbnail\n",
    "gallery](http://matplotlib.org/gallery.html).\n",
    "\n",
    "Other graphics libraries include\n",
    "\n",
    "-   [Plotly](https://plot.ly/python/)\n",
    "-   [Bokeh](http://bokeh.pydata.org/en/latest/)\n",
    "-   [VPython](http://www.vpython.org/) --- 3D graphics and animations\n",
    "\n",
    "### Symbolic Algebra\n",
    "\n",
    "It\\'s useful to be able to manipulate symbolic expressions, as in\n",
    "Mathematica or Maple.\n",
    "\n",
    "The [SymPy](http://www.sympy.org/) library provides this functionality\n",
    "from within the Python shell."
   ]
  },
  {
   "cell_type": "code",
   "execution_count": 4,
<<<<<<< HEAD
   "id": "a27c203c",
=======
   "id": "71c8656c",
>>>>>>> d88f11ffd52b32a50e34c08863574472c5b103aa
   "metadata": {},
   "outputs": [
    {
     "data": {
      "text/latex": [
       "$\\displaystyle 3 x + y$"
      ],
      "text/plain": [
       "3*x + y"
      ]
     },
     "execution_count": 4,
     "metadata": {},
     "output_type": "execute_result"
    }
   ],
   "source": [
    "from sympy import Symbol\n",
    "\n",
    "x, y = Symbol('x'), Symbol('y')  # Treat 'x' and 'y' as algebraic symbols\n",
    "x + x + x + y"
   ]
  },
  {
   "cell_type": "markdown",
<<<<<<< HEAD
   "id": "8f186ee3",
=======
   "id": "d0212a48",
>>>>>>> d88f11ffd52b32a50e34c08863574472c5b103aa
   "metadata": {},
   "source": [
    "We can manipulate expressions"
   ]
  },
  {
   "cell_type": "code",
   "execution_count": 5,
<<<<<<< HEAD
   "id": "9b4c5f9e",
=======
   "id": "3fd58e76",
>>>>>>> d88f11ffd52b32a50e34c08863574472c5b103aa
   "metadata": {},
   "outputs": [
    {
     "data": {
      "text/latex": [
       "$\\displaystyle x^{2} + 2 x y + y^{2}$"
      ],
      "text/plain": [
       "x**2 + 2*x*y + y**2"
      ]
     },
     "execution_count": 5,
     "metadata": {},
     "output_type": "execute_result"
    }
   ],
   "source": [
    "expression = (x + y)**2\n",
    "expression.expand()"
   ]
  },
  {
   "cell_type": "markdown",
<<<<<<< HEAD
   "id": "e9763b59",
=======
   "id": "690e02e2",
>>>>>>> d88f11ffd52b32a50e34c08863574472c5b103aa
   "metadata": {},
   "source": [
    "solve polynomials"
   ]
  },
  {
   "cell_type": "code",
   "execution_count": 6,
<<<<<<< HEAD
   "id": "93b48b65",
=======
   "id": "004d0e76",
>>>>>>> d88f11ffd52b32a50e34c08863574472c5b103aa
   "metadata": {},
   "outputs": [
    {
     "data": {
      "text/plain": [
       "[-1/2 - sqrt(7)*I/2, -1/2 + sqrt(7)*I/2]"
      ]
     },
     "execution_count": 6,
     "metadata": {},
     "output_type": "execute_result"
    }
   ],
   "source": [
    "from sympy import solve\n",
    "\n",
    "solve(x**2 + x + 2)"
   ]
  },
  {
   "cell_type": "markdown",
<<<<<<< HEAD
   "id": "0a6fe8bc",
=======
   "id": "5d60a8e7",
>>>>>>> d88f11ffd52b32a50e34c08863574472c5b103aa
   "metadata": {},
   "source": [
    "and calculate limits, derivatives and integrals"
   ]
  },
  {
   "cell_type": "code",
   "execution_count": 7,
<<<<<<< HEAD
   "id": "1941a0e4",
=======
   "id": "c056b0ad",
>>>>>>> d88f11ffd52b32a50e34c08863574472c5b103aa
   "metadata": {},
   "outputs": [
    {
     "data": {
      "text/latex": [
       "$\\displaystyle \\infty$"
      ],
      "text/plain": [
       "oo"
      ]
     },
     "execution_count": 7,
     "metadata": {},
     "output_type": "execute_result"
    }
   ],
   "source": [
    "from sympy import limit, sin, diff\n",
    "\n",
    "limit(1 / x, x, 0)"
   ]
  },
  {
   "cell_type": "code",
   "execution_count": 8,
<<<<<<< HEAD
   "id": "68e0de54",
=======
   "id": "2441c216",
>>>>>>> d88f11ffd52b32a50e34c08863574472c5b103aa
   "metadata": {},
   "outputs": [
    {
     "data": {
      "text/latex": [
       "$\\displaystyle 1$"
      ],
      "text/plain": [
       "1"
      ]
     },
     "execution_count": 8,
     "metadata": {},
     "output_type": "execute_result"
    }
   ],
   "source": [
    "limit(sin(x) / x, x, 0)"
   ]
  },
  {
   "cell_type": "code",
   "execution_count": 9,
<<<<<<< HEAD
   "id": "8634a6a8",
=======
   "id": "e45d943e",
>>>>>>> d88f11ffd52b32a50e34c08863574472c5b103aa
   "metadata": {},
   "outputs": [
    {
     "data": {
      "text/latex": [
       "$\\displaystyle \\cos{\\left(x \\right)}$"
      ],
      "text/plain": [
       "cos(x)"
      ]
     },
     "execution_count": 9,
     "metadata": {},
     "output_type": "execute_result"
    }
   ],
   "source": [
    "diff(sin(x), x)"
   ]
  },
  {
   "cell_type": "markdown",
<<<<<<< HEAD
   "id": "f658ae54",
=======
   "id": "ece6273f",
>>>>>>> d88f11ffd52b32a50e34c08863574472c5b103aa
   "metadata": {},
   "source": [
    "The beauty of importing this functionality into Python is that we are\n",
    "working within a fully fledged programming language.\n",
    "\n",
    "We can easily create tables of derivatives, generate LaTeX output, add\n",
    "that output to figures and so on.\n",
    "\n",
    "### Statistics\n",
    "\n",
    "Python\\'s data manipulation and statistics libraries have improved\n",
    "rapidly over the last few years.\n",
    "\n",
    "#### Pandas\n",
    "\n",
    "One of the most popular libraries for working with data is\n",
    "[pandas](http://pandas.pydata.org/).\n",
    "\n",
    "Pandas is fast, efficient, flexible and well designed.\n",
    "\n",
    "Here\\'s a simple example, using some dummy data generated with Numpy\\'s\n",
    "excellent `random` functionality."
   ]
  },
  {
   "cell_type": "code",
   "execution_count": 10,
<<<<<<< HEAD
   "id": "ab200558",
=======
   "id": "713a2583",
>>>>>>> d88f11ffd52b32a50e34c08863574472c5b103aa
   "metadata": {},
   "outputs": [
    {
     "name": "stdout",
     "output_type": "stream",
     "text": [
      "               price    weight\n",
      "2010-12-28  0.471435 -1.190976\n",
      "2010-12-29  1.432707 -0.312652\n",
      "2010-12-30 -0.720589  0.887163\n",
      "2010-12-31  0.859588 -0.636524\n",
      "2011-01-01  0.015696 -2.242685\n"
     ]
    },
    {
     "name": "stderr",
     "output_type": "stream",
     "text": [
      "C:\\Users\\nkqt5\\Anaconda3\\lib\\site-packages\\IPython\\core\\interactiveshell.py:3369: UserWarning: Parsing '28/12/2010' in DD/MM/YYYY format. Provide format or specify infer_datetime_format=True for consistent parsing.\n",
      "  exec(code_obj, self.user_global_ns, self.user_ns)\n"
     ]
    }
   ],
   "source": [
    "import pandas as pd\n",
    "np.random.seed(1234)\n",
    "\n",
    "data = np.random.randn(5, 2)  # 5x2 matrix of N(0, 1) random draws\n",
    "dates = pd.date_range('28/12/2010', periods=5)\n",
    "\n",
    "df = pd.DataFrame(data, columns=('price', 'weight'), index=dates)\n",
    "print(df)"
   ]
  },
  {
   "cell_type": "code",
   "execution_count": 11,
<<<<<<< HEAD
   "id": "f136985c",
=======
   "id": "13e629da",
>>>>>>> d88f11ffd52b32a50e34c08863574472c5b103aa
   "metadata": {},
   "outputs": [
    {
     "data": {
      "text/plain": [
       "price     0.411768\n",
       "weight   -0.699135\n",
       "dtype: float64"
      ]
     },
     "execution_count": 11,
     "metadata": {},
     "output_type": "execute_result"
    }
   ],
   "source": [
    "df.mean()"
   ]
  },
  {
   "cell_type": "markdown",
<<<<<<< HEAD
   "id": "a9710351",
=======
   "id": "5bfd6878",
>>>>>>> d88f11ffd52b32a50e34c08863574472c5b103aa
   "metadata": {},
   "source": [
    "#### Other Useful Statistics Libraries\n",
    "\n",
    "-   [statsmodels](http://statsmodels.sourceforge.net/) --- various\n",
    "    statistical routines\n",
    "\n",
    "-   [scikit-learn](http://scikit-learn.org/) --- machine learning in\n",
    "    Python (sponsored by Google, among others)\n",
    "\n",
    "-   [pyMC](http://pymc-devs.github.io/pymc/) --- for Bayesian data\n",
    "    analysis\n",
    "\n",
    "-   [pystan](https://pystan.readthedocs.org/en/latest/) Bayesian\n",
    "    analysis based on [stan](http://mc-stan.org/)\n",
    "\n",
    "### Networks and Graphs\n",
    "\n",
    "Python has many libraries for studying graphs.\n",
    "\n",
    "One well-known example is [NetworkX](http://networkx.github.io/). Its\n",
    "features include, among many other things:\n",
    "\n",
    "-   standard graph algorithms for analyzing networks\n",
    "-   plotting routines\n",
    "\n",
    "Here\\'s some example code that generates and plots a random graph, with\n",
    "node color determined by shortest path length from a central node."
   ]
  },
  {
   "cell_type": "code",
   "execution_count": 12,
<<<<<<< HEAD
   "id": "fb00f409",
=======
   "id": "66769908",
>>>>>>> d88f11ffd52b32a50e34c08863574472c5b103aa
   "metadata": {},
   "outputs": [
    {
     "name": "stderr",
     "output_type": "stream",
     "text": [
      "Matplotlib is building the font cache; this may take a moment.\n"
     ]
    },
    {
     "data": {
      "image/png": "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\n",
      "text/plain": [
       "<Figure size 432x288 with 1 Axes>"
      ]
     },
     "metadata": {
      "filenames": {
       "image/png": "C:\\Arc-Project-test\\book\\_build\\jupyter_execute\\docs\\chapter1_20_1.png"
      }
     },
     "output_type": "display_data"
    }
   ],
   "source": [
    "import networkx as nx\n",
    "import matplotlib.pyplot as plt\n",
    "%matplotlib inline\n",
    "np.random.seed(1234)\n",
    "\n",
    "# Generate a random graph\n",
    "p = dict((i, (np.random.uniform(0, 1), np.random.uniform(0, 1)))\n",
    "         for i in range(200))\n",
    "g = nx.random_geometric_graph(200, 0.12, pos=p)\n",
    "pos = nx.get_node_attributes(g, 'pos')\n",
    "\n",
    "# Find node nearest the center point (0.5, 0.5)\n",
    "dists = [(x - 0.5)**2 + (y - 0.5)**2 for x, y in list(pos.values())]\n",
    "ncenter = np.argmin(dists)\n",
    "\n",
    "# Plot graph, coloring by path length from central node\n",
    "p = nx.single_source_shortest_path_length(g, ncenter)\n",
    "plt.figure()\n",
    "nx.draw_networkx_edges(g, pos, alpha=0.4)\n",
    "nx.draw_networkx_nodes(g,\n",
    "                       pos,\n",
    "                       nodelist=list(p.keys()),\n",
    "                       node_size=120, alpha=0.5,\n",
    "                       node_color=list(p.values()),\n",
    "                       cmap=plt.cm.jet_r)\n",
    "plt.show()"
   ]
  },
  {
   "cell_type": "markdown",
<<<<<<< HEAD
   "id": "e7c4f625",
=======
   "id": "0305b6f8",
>>>>>>> d88f11ffd52b32a50e34c08863574472c5b103aa
   "metadata": {},
   "source": [
    "### Cloud Computing\n",
    "\n",
    "Running your Python code on massive servers in the cloud is becoming\n",
    "easier and easier.\n",
    "\n",
    "A nice example is [Anaconda\n",
    "Enterprise](https://www.anaconda.com/enterprise/).\n",
    "\n",
    "See also\n",
    "\n",
    "-   [Amazon Elastic Compute Cloud](http://aws.amazon.com/ec2/)\n",
    "-   The [Google App Engine](https://cloud.google.com/appengine/)\n",
    "    (Python, Java, PHP or Go)\n",
    "-   [Pythonanywhere](https://www.pythonanywhere.com/)\n",
    "-   [Sagemath Cloud](https://cloud.sagemath.com/)\n",
    "\n",
    "### Parallel Processing\n",
    "\n",
    "Apart from the cloud computing options listed above, you might like to\n",
    "consider\n",
    "\n",
    "-   [Parallel computing through IPython\n",
    "    clusters](http://ipython.org/ipython-doc/stable/parallel/parallel_demos.html).\n",
    "-   The [Starcluster](http://star.mit.edu/cluster/) interface to\n",
    "    Amazon\\'s EC2.\n",
    "-   GPU programming through [PyCuda](https://wiki.tiker.net/PyCuda),\n",
    "    [PyOpenCL](https://mathema.tician.de/software/pyopencl/),\n",
    "    [Theano](http://deeplearning.net/software/theano/) or similar.\n",
    "\n",
    "(intfc)=\n",
    "\n",
    "### Other Developments\n",
    "\n",
    "There are many other interesting developments with scientific\n",
    "programming in Python.\n",
    "\n",
    "Some representative examples include\n",
    "\n",
    "-   [Jupyter](http://jupyter.org/) --- Python in your browser with\n",
    "    interactive code cells, embedded images and other useful features.\n",
    "-   [Numba](http://numba.pydata.org/) --- Make Python run at the same\n",
    "    speed as native machine code!\n",
    "-   [Blaze](http://blaze.pydata.org/) --- a generalization of NumPy.\n",
    "-   [PyTables](http://www.pytables.org) --- manage large data sets.\n",
    "-   [CVXPY](https://github.com/cvxgrp/cvxpy) --- convex optimization\n",
    "    in Python.\n",
    "\n",
    "## Learn More\n",
    "\n",
    "-   Browse some Python projects on\n",
    "    [GitHub](https://github.com/trending?l=python).\n",
    "-   Read more about [Python\\'s history and rise in\n",
    "    popularity](https://www.welcometothejungle.com/en/articles/btc-python-popular).\n",
    "-   Have a look at [some of the Jupyter\n",
    "    notebooks](http://nbviewer.jupyter.org/) people have shared on\n",
    "    various scientific topics.\n",
    "-   Visit the [Python Package Index](https://pypi.org/).\n",
    "-   View some of the questions people are asking about Python on\n",
    "    [Stackoverflow](http://stackoverflow.com/questions/tagged/python).\n",
    "-   Keep up to date on what\\'s happening in the Python community with\n",
    "    the [Python subreddit](https://www.reddit.com:443/r/Python/)."
   ]
  }
 ],
 "metadata": {
  "jupytext": {
   "text_representation": {
    "extension": ".md",
    "format_name": "myst"
   }
  },
  "kernelspec": {
   "display_name": "Python 3",
   "language": "python",
   "name": "python3"
  },
  "language_info": {
   "codemirror_mode": {
    "name": "ipython",
    "version": 3
   },
   "file_extension": ".py",
   "mimetype": "text/x-python",
   "name": "python",
   "nbconvert_exporter": "python",
   "pygments_lexer": "ipython3",
   "version": "3.9.12"
  },
  "source_map": [
   10,
<<<<<<< HEAD
   187,
   193,
   197,
   199,
   214,
   221,
   283,
   288,
   292,
   295,
   299,
   303,
   307,
   313,
   317,
   319,
   342,
   353,
   355,
   384,
   411
=======
   188,
   194,
   198,
   200,
   215,
   222,
   284,
   289,
   293,
   296,
   300,
   304,
   308,
   314,
   318,
   320,
   343,
   354,
   356,
   385,
   412
>>>>>>> d88f11ffd52b32a50e34c08863574472c5b103aa
  ]
 },
 "nbformat": 4,
 "nbformat_minor": 5
}