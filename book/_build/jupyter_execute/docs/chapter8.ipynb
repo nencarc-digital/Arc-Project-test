{
 "cells": [
  {
   "cell_type": "markdown",
   "id": "d5df3e71",
   "metadata": {},
   "source": [
    "(python_advanced_features)=\n",
    "\n",
    "# Chapter 8\n",
    "\n",
    "## Overview\n",
    "\n",
    "```{tip}\n",
    "With this last lecture, our advice is to **skip it on first pass**,\n",
    "unless you have a burning desire to read it.\n",
    "```\n",
    "\n",
    "It\\'s here\n",
    "\n",
    "1.  as a reference, so we can link back to it when required, and\n",
    "2.  for those who have worked through a number of applications, and now\n",
    "    want to learn more about the Python language\n",
    "\n",
    "A variety of topics are treated in the lecture, including generators,\n",
    "exceptions and descriptors.\n",
    "\n",
    "## Iterables and Iterators\n",
    "\n",
    "We\\'ve {ref}`already said something <iterating_version_1>` about iterating in Python.\n",
    "\n",
    "Now let\\'s look more closely at how it all works, focusing in Python\\'s\n",
    "implementation of the `for` loop.\n",
    "\n",
    "### Iterators\n",
    "\n",
    "Iterators are a uniform interface to stepping through elements in a\n",
    "collection.\n",
    "\n",
    "Here we\\'ll talk about using iterators---later we\\'ll learn how to\n",
    "build our own.\n",
    "\n",
    "Formally, an *iterator* is an object with a `__next__` method.\n",
    "\n",
    "For example, file objects are iterators .\n",
    "\n",
    "\n",
    "The objects returned by `enumerate()` are also iterators"
   ]
  },
  {
   "cell_type": "code",
   "execution_count": 1,
   "id": "caa0c683",
   "metadata": {},
   "outputs": [
    {
     "data": {
      "text/plain": [
       "(0, 'foo')"
      ]
     },
     "execution_count": 1,
     "metadata": {},
     "output_type": "execute_result"
    }
   ],
   "source": [
    "e = enumerate(['foo', 'bar'])\n",
    "next(e)"
   ]
  },
  {
   "cell_type": "code",
   "execution_count": 2,
   "id": "b22199ca",
   "metadata": {},
   "outputs": [
    {
     "data": {
      "text/plain": [
       "(1, 'bar')"
      ]
     },
     "execution_count": 2,
     "metadata": {},
     "output_type": "execute_result"
    }
   ],
   "source": [
    "next(e)"
   ]
  },
  {
   "cell_type": "markdown",
   "id": "1559ceb9",
   "metadata": {},
   "source": [
    "as are the reader objects from the `csv` module .\n",
    "\n",
    "Let\\'s create a small csv file that contains data from the NIKKEI index\n",
    "\n",
    "### Iterators in For Loops\n",
    "\n",
    "All iterators can be placed to the right of the `in` keyword in `for`\n",
    "loop statements.\n",
    "\n",
    "In fact this is how the `for` loop works: If we write\n",
    "\n",
    "```python\n",
    "for x in iterator:\n",
    "    <code block>\n",
    "```\n",
    "\n",
    "then the interpreter\n",
    "\n",
    "-   calls `iterator.___next___()` and binds `x` to the result\n",
    "-   executes the code block\n",
    "-   repeats until a `StopIteration` error occurs\n",
    "\n",
    "So now you know how this magical looking syntax works\n",
    "\n",
    "```python\n",
    "f = open('somefile.txt', 'r')\n",
    "for line in f:\n",
    "    # do something\n",
    "```\n",
    "\n",
    "The interpreter just keeps\n",
    "\n",
    "1.  calling `f.__next__()` and binding `line` to the result\n",
    "2.  executing the body of the loop\n",
    "\n",
    "This continues until a `StopIteration` error occurs.\n",
    "\n",
    "### Iterables\n",
    "\n",
    "You already know that we can put a Python list to the right of `in` in a\n",
    "`for` loop"
   ]
  },
  {
   "cell_type": "code",
   "execution_count": 3,
   "id": "4201a757",
   "metadata": {},
   "outputs": [
    {
     "name": "stdout",
     "output_type": "stream",
     "text": [
      "spam\n",
      "eggs\n"
     ]
    }
   ],
   "source": [
    "for i in ['spam', 'eggs']:\n",
    "    print(i)"
   ]
  },
  {
   "cell_type": "markdown",
   "id": "63a58c81",
   "metadata": {},
   "source": [
    "So does that mean that a list is an iterator?\n",
    "\n",
    "The answer is no"
   ]
  },
  {
   "cell_type": "code",
   "execution_count": 4,
   "id": "54d42199",
   "metadata": {},
   "outputs": [
    {
     "data": {
      "text/plain": [
       "list"
      ]
     },
     "execution_count": 4,
     "metadata": {},
     "output_type": "execute_result"
    }
   ],
   "source": [
    "x = ['foo', 'bar']\n",
    "type(x)"
   ]
  },
  {
   "cell_type": "code",
   "execution_count": 5,
   "id": "7b962640",
   "metadata": {
    "tags": [
     "raises-exception"
    ]
   },
   "outputs": [
    {
     "ename": "TypeError",
     "evalue": "'list' object is not an iterator",
     "output_type": "error",
     "traceback": [
      "\u001b[1;31m---------------------------------------------------------------------------\u001b[0m",
      "\u001b[1;31mTypeError\u001b[0m                                 Traceback (most recent call last)",
      "Input \u001b[1;32mIn [5]\u001b[0m, in \u001b[0;36m<cell line: 1>\u001b[1;34m()\u001b[0m\n\u001b[1;32m----> 1\u001b[0m \u001b[38;5;28;43mnext\u001b[39;49m\u001b[43m(\u001b[49m\u001b[43mx\u001b[49m\u001b[43m)\u001b[49m\n",
      "\u001b[1;31mTypeError\u001b[0m: 'list' object is not an iterator"
     ]
    }
   ],
   "source": [
    "next(x)"
   ]
  },
  {
   "cell_type": "markdown",
   "id": "b00f76a0",
   "metadata": {},
   "source": [
    "So why can we iterate over a list in a `for` loop?\n",
    "\n",
    "The reason is that a list is *iterable* (as opposed to an iterator).\n",
    "\n",
    "Formally, an object is iterable if it can be converted to an iterator\n",
    "using the built-in function `iter()`.\n",
    "\n",
    "Lists are one such object"
   ]
  },
  {
   "cell_type": "code",
   "execution_count": 6,
   "id": "cdc0e872",
   "metadata": {},
   "outputs": [
    {
     "data": {
      "text/plain": [
       "list"
      ]
     },
     "execution_count": 6,
     "metadata": {},
     "output_type": "execute_result"
    }
   ],
   "source": [
    "x = ['foo', 'bar']\n",
    "type(x)"
   ]
  },
  {
   "cell_type": "code",
   "execution_count": 7,
   "id": "06f3158c",
   "metadata": {},
   "outputs": [
    {
     "data": {
      "text/plain": [
       "list_iterator"
      ]
     },
     "execution_count": 7,
     "metadata": {},
     "output_type": "execute_result"
    }
   ],
   "source": [
    "y = iter(x)\n",
    "type(y)"
   ]
  },
  {
   "cell_type": "code",
   "execution_count": 8,
   "id": "113e18ea",
   "metadata": {},
   "outputs": [
    {
     "data": {
      "text/plain": [
       "'foo'"
      ]
     },
     "execution_count": 8,
     "metadata": {},
     "output_type": "execute_result"
    }
   ],
   "source": [
    "next(y)  "
   ]
  },
  {
   "cell_type": "code",
   "execution_count": 9,
   "id": "31261ad6",
   "metadata": {},
   "outputs": [
    {
     "data": {
      "text/plain": [
       "'bar'"
      ]
     },
     "execution_count": 9,
     "metadata": {},
     "output_type": "execute_result"
    }
   ],
   "source": [
    "next(y)"
   ]
  },
  {
   "cell_type": "code",
   "execution_count": 10,
   "id": "70517a86",
   "metadata": {
    "tags": [
     "raises-exception"
    ]
   },
   "outputs": [
    {
     "ename": "StopIteration",
     "evalue": "",
     "output_type": "error",
     "traceback": [
      "\u001b[1;31m---------------------------------------------------------------------------\u001b[0m",
      "\u001b[1;31mStopIteration\u001b[0m                             Traceback (most recent call last)",
      "Input \u001b[1;32mIn [10]\u001b[0m, in \u001b[0;36m<cell line: 1>\u001b[1;34m()\u001b[0m\n\u001b[1;32m----> 1\u001b[0m \u001b[38;5;28;43mnext\u001b[39;49m\u001b[43m(\u001b[49m\u001b[43my\u001b[49m\u001b[43m)\u001b[49m\n",
      "\u001b[1;31mStopIteration\u001b[0m: "
     ]
    }
   ],
   "source": [
    "next(y)    "
   ]
  },
  {
   "cell_type": "markdown",
   "id": "e05e2593",
   "metadata": {},
   "source": [
    "Many other objects are iterable, such as dictionaries and tuples.\n",
    "\n",
    "Of course, not all objects are iterable"
   ]
  },
  {
   "cell_type": "code",
   "execution_count": 11,
   "id": "0918ad8a",
   "metadata": {
    "tags": [
     "raises-exception"
    ]
   },
   "outputs": [
    {
     "ename": "TypeError",
     "evalue": "'int' object is not iterable",
     "output_type": "error",
     "traceback": [
      "\u001b[1;31m---------------------------------------------------------------------------\u001b[0m",
      "\u001b[1;31mTypeError\u001b[0m                                 Traceback (most recent call last)",
      "Input \u001b[1;32mIn [11]\u001b[0m, in \u001b[0;36m<cell line: 1>\u001b[1;34m()\u001b[0m\n\u001b[1;32m----> 1\u001b[0m \u001b[38;5;28;43miter\u001b[39;49m\u001b[43m(\u001b[49m\u001b[38;5;241;43m42\u001b[39;49m\u001b[43m)\u001b[49m\n",
      "\u001b[1;31mTypeError\u001b[0m: 'int' object is not iterable"
     ]
    }
   ],
   "source": [
    "iter(42)"
   ]
  },
  {
   "cell_type": "markdown",
   "id": "c1c58f78",
   "metadata": {},
   "source": [
    "To conclude our discussion of `for` loops\n",
    "\n",
    "-   `for` loops work on either iterators or iterables.\n",
    "-   In the second case, the iterable is converted into an iterator\n",
    "    before the loop starts.\n",
    "\n",
    "### Iterators and built-ins\n",
    "\n",
    "Some built-in functions that act on sequences also work with iterables\n",
    "\n",
    "-   `max()`, `min()`, `sum()`, `all()`, `any()`\n",
    "\n",
    "For example"
   ]
  },
  {
   "cell_type": "code",
   "execution_count": 12,
   "id": "b33d4fee",
   "metadata": {},
   "outputs": [
    {
     "data": {
      "text/plain": [
       "10"
      ]
     },
     "execution_count": 12,
     "metadata": {},
     "output_type": "execute_result"
    }
   ],
   "source": [
    "x = [10, -10]\n",
    "max(x)"
   ]
  },
  {
   "cell_type": "code",
   "execution_count": 13,
   "id": "972ca87c",
   "metadata": {},
   "outputs": [
    {
     "data": {
      "text/plain": [
       "list_iterator"
      ]
     },
     "execution_count": 13,
     "metadata": {},
     "output_type": "execute_result"
    }
   ],
   "source": [
    "y = iter(x)\n",
    "type(y)    "
   ]
  },
  {
   "cell_type": "code",
   "execution_count": 14,
   "id": "c34b2b4c",
   "metadata": {},
   "outputs": [
    {
     "data": {
      "text/plain": [
       "10"
      ]
     },
     "execution_count": 14,
     "metadata": {},
     "output_type": "execute_result"
    }
   ],
   "source": [
    "max(y)"
   ]
  },
  {
   "cell_type": "markdown",
   "id": "b40dddce",
   "metadata": {},
   "source": [
    "One thing to remember about iterators is that they are depleted by use"
   ]
  },
  {
   "cell_type": "code",
   "execution_count": 15,
   "id": "152da755",
   "metadata": {},
   "outputs": [
    {
     "data": {
      "text/plain": [
       "10"
      ]
     },
     "execution_count": 15,
     "metadata": {},
     "output_type": "execute_result"
    }
   ],
   "source": [
    "x = [10, -10]\n",
    "y = iter(x)\n",
    "max(y)"
   ]
  },
  {
   "cell_type": "code",
   "execution_count": 16,
   "id": "47b0e58a",
   "metadata": {
    "tags": [
     "raises-exception"
    ]
   },
   "outputs": [
    {
     "ename": "ValueError",
     "evalue": "max() arg is an empty sequence",
     "output_type": "error",
     "traceback": [
      "\u001b[1;31m---------------------------------------------------------------------------\u001b[0m",
      "\u001b[1;31mValueError\u001b[0m                                Traceback (most recent call last)",
      "Input \u001b[1;32mIn [16]\u001b[0m, in \u001b[0;36m<cell line: 1>\u001b[1;34m()\u001b[0m\n\u001b[1;32m----> 1\u001b[0m \u001b[38;5;28;43mmax\u001b[39;49m\u001b[43m(\u001b[49m\u001b[43my\u001b[49m\u001b[43m)\u001b[49m\n",
      "\u001b[1;31mValueError\u001b[0m: max() arg is an empty sequence"
     ]
    }
   ],
   "source": [
    "max(y)"
   ]
  },
  {
   "cell_type": "markdown",
   "id": "3937550b",
   "metadata": {},
   "source": [
    "(name_res)=\n",
    "\n",
    "## Names and Name Resolution\n",
    "\n",
    "### Variable Names in Python\n",
    "\n",
    "Consider the Python statement"
   ]
  },
  {
   "cell_type": "code",
   "execution_count": 17,
   "id": "1b14b87f",
   "metadata": {},
   "outputs": [],
   "source": [
    "x = 42"
   ]
  },
  {
   "cell_type": "markdown",
   "id": "62e47910",
   "metadata": {},
   "source": [
    "We now know that when this statement is executed, Python creates an\n",
    "object of type `int` in your computer\\'s memory, containing\n",
    "\n",
    "-   the value `42`\n",
    "-   some associated attributes\n",
    "\n",
    "But what is `x` itself?\n",
    "\n",
    "In Python, `x` is called a *name*, and the statement `x = 42` *binds*\n",
    "the name `x` to the integer object we have just discussed.\n",
    "\n",
    "Under the hood, this process of binding names to objects is implemented\n",
    "as a dictionary---more about this in a moment.\n",
    "\n",
    "There is no problem binding two or more names to the one object,\n",
    "regardless of what that object is"
   ]
  },
  {
   "cell_type": "code",
   "execution_count": 18,
   "id": "a6ce05e6",
   "metadata": {},
   "outputs": [
    {
     "data": {
      "text/plain": [
       "True"
      ]
     },
     "execution_count": 18,
     "metadata": {},
     "output_type": "execute_result"
    }
   ],
   "source": [
    "def f(string):      # Create a function called f\n",
    "    print(string)   # that prints any string it's passed\n",
    "\n",
    "g = f\n",
    "id(g) == id(f)"
   ]
  },
  {
   "cell_type": "code",
   "execution_count": 19,
   "id": "bafee534",
   "metadata": {},
   "outputs": [
    {
     "name": "stdout",
     "output_type": "stream",
     "text": [
      "test\n"
     ]
    }
   ],
   "source": [
    "g('test')"
   ]
  },
  {
   "cell_type": "markdown",
   "id": "29070d6b",
   "metadata": {},
   "source": [
    "In the first step, a function object is created, and the name `f` is\n",
    "bound to it.\n",
    "\n",
    "After binding the name `g` to the same object, we can use it anywhere we\n",
    "would use `f`.\n",
    "\n",
    "What happens when the number of names bound to an object goes to zero?\n",
    "\n",
    "Here\\'s an example of this situation, where the name `x` is first bound\n",
    "to one object and then rebound to another"
   ]
  },
  {
   "cell_type": "code",
   "execution_count": 20,
   "id": "1fc117a6",
   "metadata": {},
   "outputs": [
    {
     "data": {
      "text/plain": [
       "1370827234480"
      ]
     },
     "execution_count": 20,
     "metadata": {},
     "output_type": "execute_result"
    }
   ],
   "source": [
    "x = 'foo'\n",
    "id(x)"
   ]
  },
  {
   "cell_type": "code",
   "execution_count": 21,
   "id": "2bd2c674",
   "metadata": {},
   "outputs": [],
   "source": [
    "x = 'bar'  # No names bound to the first object"
   ]
  },
  {
   "cell_type": "markdown",
   "id": "49c02aef",
   "metadata": {},
   "source": [
    "What happens here is that the first object is garbage collected.\n",
    "\n",
    "In other words, the memory slot that stores that object is deallocated,\n",
    "and returned to the operating system."
   ]
  }
 ],
 "metadata": {
  "jupytext": {
   "text_representation": {
    "extension": ".md",
    "format_name": "myst"
   }
  },
  "kernelspec": {
   "display_name": "Python 3",
   "language": "python",
   "name": "python3"
  },
  "language_info": {
   "codemirror_mode": {
    "name": "ipython",
    "version": 3
   },
   "file_extension": ".py",
   "mimetype": "text/x-python",
   "name": "python",
   "nbconvert_exporter": "python",
   "pygments_lexer": "ipython3",
   "version": "3.9.12"
  },
  "source_map": [
   10,
   54,
   59,
   61,
   105,
   108,
   114,
   119,
   123,
   134,
   139,
   144,
   148,
   152,
   156,
   162,
   166,
   182,
   187,
   192,
   194,
   198,
   204,
   208,
   218,
   220,
   239,
   247,
   249,
   262,
   267,
   269
  ]
 },
 "nbformat": 4,
 "nbformat_minor": 5
}