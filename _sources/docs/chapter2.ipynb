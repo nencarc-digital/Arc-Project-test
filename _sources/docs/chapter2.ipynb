{
 "cells": [
  {
   "cell_type": "markdown",
   "id": "9f91caf4",
   "metadata": {},
   "source": [
    "(getting_started)=\n",
    "\n",
    "# The North Tyneside Falls Prevention Service\n",
    "\n",
    "## Overview\n",
    "\n",
    "TEMP TEXT: \n",
    "The North Tyneside Community Falls Prevention Service was founded in 2009, and its aims were to provide falls and syncope prevention and management through a process of proactive case ascertainment for individuals at risk of falls (by screening individual primary care records of people aged over 60 years) and those who had experienced falls. The ethos was one of upstream prevention, attempting to reach people at risk before falls had resulted in a downward spiral of increasing debility and dependency and eventual care home placement. Funding was withdrawn and the service closed on 31st January 2014. During the four years the Service ran, the NTCFPS operated in 18 GP practises with numerous falls and syncope risk factors identified. Two thousand three hundred and two individuals had newly recognised significant gait and balance abnormalities, 600 were found to be at high risk of osteoporosis according to the World Health Association Fracture Risk Assessment Tool, 179 had benign positional paroxysmal vertigo and 50 newly recognised atrial fibrillation. Significant numbers of individuals were also newly diagnosed with conditions ranging from cognitive impairment to Parkinson's disease and urgent indications for a pacemaker (REF).  Once identified patients were referred onward to appropriate services including partner-organisation Age UK-run strength and balance training classes.   We have previously established that the service was effective in identifying people at risk of falls , but no evidence existed about whether this translated into improved health outcomes and reduced costs. The programme operated from April 2009 until January 2014, and we estimate the consequences of closing the service.\n",
    "\n",
    "\n",
    "Include brief video here\n",
    "\n",
    "\n",
    "## References"
   ]
  }
 ],
 "metadata": {
  "jupytext": {
   "text_representation": {
    "extension": ".md",
    "format_name": "myst"
   }
  },
  "kernelspec": {
   "display_name": "Python 3",
   "language": "python",
   "name": "python3"
  },
  "source_map": [
   10
  ]
 },
 "nbformat": 4,
 "nbformat_minor": 5
}