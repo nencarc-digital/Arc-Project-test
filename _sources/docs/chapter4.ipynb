{
 "cells": [
  {
   "cell_type": "markdown",
   "id": "5a540a60",
   "metadata": {},
   "source": [
    "(speed)=\n",
    "\n",
    "# Worked Example using simulated data\n",
    "\n",
    "## Overview\n",
    "\n",
    "Unable to share NTFPS data so we have created a simualted dataset which is available (link) to demonstrate the methods used in this evaluation. \n",
    "\n",
    "Also allows demonstration of technique using cost and QALYs, rather than cost and event as per NTFPS \n",
    "\n",
    "## Data simulation\n",
    "\n",
    "Demonstrate how data was simualted and what was done - include r code in 'copy box'. \n",
    "\n",
    "### Data set up\n",
    "\n",
    "Demonstrate setting up of data and why we need to set it up this way\n",
    "\n",
    "### Regression model\n",
    "\n",
    "Set out regression model + what each component is.\n",
    "\n",
    "Include code\n",
    "\n",
    "Set out transformations after regression and explain\n",
    "\n",
    "## Results\n",
    " Results include:\n",
    "\n",
    "- Effect in each year on cost and QALYS\n",
    "- ICER + WTP for each year including graphs\n",
    "- Overall combined cost + QALYs \n",
    "\n",
    "## discussion of results\n",
    "discuss results\n",
    "\n",
    "\n",
    "## other?\n",
    "suggest/demonstrate adaptions to this approach e.g. different timings and switch on of intervention...\n",
    "\n",
    "## References"
   ]
  }
 ],
 "metadata": {
  "jupytext": {
   "text_representation": {
    "extension": ".md",
    "format_name": "myst"
   }
  },
  "kernelspec": {
   "display_name": "Python 3",
   "language": "python",
   "name": "python3"
  },
  "language_info": {
   "codemirror_mode": {
    "name": "ipython",
    "version": 3
   },
   "file_extension": ".py",
   "mimetype": "text/x-python",
   "name": "python",
   "nbconvert_exporter": "python",
   "pygments_lexer": "ipython3",
   "version": "3.9.12"
  },
  "source_map": [
   10
  ]
 },
 "nbformat": 4,
 "nbformat_minor": 5
}