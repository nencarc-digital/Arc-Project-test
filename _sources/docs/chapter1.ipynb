{
 "cells": [
  {
   "cell_type": "markdown",
   "id": "36c1ba99",
   "metadata": {},
   "source": [
    "(about_py)=\n",
    "\n",
    "# Background: \n",
    "\n",
    "\n",
    "> \\\"Could add quote here\\\" -- person\n",
    "\n",
    "## Overview\n",
    "\n",
    "This site will:\n",
    "\n",
    "-   Set out the background to economic evaluation of local health service interventions\n",
    "-   Set out the background to the North Tyneside Falls Prevention Service (NTFPS)\n",
    "-   Present the economic evaluation of the NTFPS\n",
    "-   Present an example case study of the methodology used to evaluate NTFPS on a simulated dataset  \n",
    "\n",
    "\n",
    "## Economic Evaluation of local health service interventions\n",
    "\n",
    "Add some background/intro information here\n",
    "\n",
    "## References"
   ]
  }
 ],
 "metadata": {
  "jupytext": {
   "text_representation": {
    "extension": ".md",
    "format_name": "myst"
   }
  },
  "kernelspec": {
   "display_name": "Python 3",
   "language": "python",
   "name": "python3"
  },
  "language_info": {
   "codemirror_mode": {
    "name": "ipython",
    "version": 3
   },
   "file_extension": ".py",
   "mimetype": "text/x-python",
   "name": "python",
   "nbconvert_exporter": "python",
   "pygments_lexer": "ipython3",
   "version": "3.9.12"
  },
  "source_map": [
   10
  ]
 },
 "nbformat": 4,
 "nbformat_minor": 5
}